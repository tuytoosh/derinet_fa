{
 "cells": [
  {
   "cell_type": "code",
   "execution_count": 2,
   "metadata": {},
   "outputs": [],
   "source": [
    "from __future__ import unicode_literals\n",
    "from hazm import *"
   ]
  },
  {
   "cell_type": "code",
   "execution_count": 3,
   "metadata": {},
   "outputs": [],
   "source": [
    "tagger = POSTagger(model='./data/resources/postagger.model')"
   ]
  },
  {
   "cell_type": "code",
   "execution_count": 15,
   "metadata": {},
   "outputs": [
    {
     "data": {
      "text/plain": [
       "[('ما', 'PRO'), ('بسیار', 'ADV'), ('کتاب', 'N'), ('می\\u200cخوانیم', 'V')]"
      ]
     },
     "execution_count": 15,
     "metadata": {},
     "output_type": "execute_result"
    }
   ],
   "source": [
    "tagger.tag(word_tokenize('ما بسیار کتاب می‌خوانیم'))"
   ]
  },
  {
   "cell_type": "code",
   "execution_count": null,
   "metadata": {},
   "outputs": [],
   "source": [
    "\tdef ourData(self):\n",
    "\t\tsegmentations = {}\n",
    "\t\tfileOpen = open(self.ourDataRoute, 'r')\n",
    "\t\tfileRead = fileOpen.read()\n",
    "\t\tlines = fileRead.split()\n",
    "\t\twords = []\n",
    "\t\tfor l in lines:\n",
    "\t\t    l = l.split(',')\n",
    "\t\t    word = [v for v in l[7:] if v != '']\n",
    "\t\t    word = ''.join(word)\n",
    "\t\t    word = word.split('X')\n",
    "\t\t\tsegmentations['test'] = ' '\n",
    "\t\t    words.append(word)\n",
    "\t\treturn words, segmentations"
   ]
  }
 ],
 "metadata": {
  "kernelspec": {
   "display_name": "Python 3",
   "language": "python",
   "name": "python3"
  },
  "language_info": {
   "codemirror_mode": {
    "name": "ipython",
    "version": 3
   },
   "file_extension": ".py",
   "mimetype": "text/x-python",
   "name": "python",
   "nbconvert_exporter": "python",
   "pygments_lexer": "ipython3",
   "version": "3.7.1"
  }
 },
 "nbformat": 4,
 "nbformat_minor": 2
}
